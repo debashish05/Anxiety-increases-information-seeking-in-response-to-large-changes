{
 "cells": [
  {
   "cell_type": "code",
   "execution_count": 1,
   "metadata": {},
   "outputs": [],
   "source": [
    "import pandas as pd\n",
    "import statsmodels.formula.api as smf"
   ]
  },
  {
   "cell_type": "code",
   "execution_count": 2,
   "metadata": {},
   "outputs": [],
   "source": [
    "data = pd.read_csv('Study2bLinearMixedModelData.csv')\n",
    "data = data.dropna()\n",
    "data.describe()\n",
    "\n",
    "df=data\n",
    "data=(df-df.mean())/df.std()"
   ]
  },
  {
   "cell_type": "code",
   "execution_count": 3,
   "metadata": {},
   "outputs": [
    {
     "name": "stdout",
     "output_type": "stream",
     "text": [
      "        wtp       vMC       aMC      subj    gender      age  ChangeAnxiety  \\\n",
      "0  0.631546 -0.508646 -0.481802 -1.699604  1.181107  1.27676       0.098871   \n",
      "1  0.831395 -1.274624  0.789697 -1.699604  1.181107  1.27676       0.098871   \n",
      "2  0.032000  0.210700 -0.973866 -1.699604  1.181107  1.27676       0.098871   \n",
      "3  0.381735 -0.220431 -0.960229 -1.699604  1.181107  1.27676       0.098871   \n",
      "4  0.032000 -0.334544 -0.770804 -1.699604  1.181107  1.27676       0.098871   \n",
      "\n",
      "      group  \n",
      "0 -1.005547  \n",
      "1 -1.005547  \n",
      "2 -1.005547  \n",
      "3 -1.005547  \n",
      "4 -1.005547  \n"
     ]
    }
   ],
   "source": [
    "print(data.head())"
   ]
  },
  {
   "cell_type": "code",
   "execution_count": 4,
   "metadata": {},
   "outputs": [],
   "source": [
    "md = smf.mixedlm(\"wtp ~ ChangeAnxiety + age + gender\" , data, groups=data[\"group\"])"
   ]
  },
  {
   "cell_type": "code",
   "execution_count": 5,
   "metadata": {},
   "outputs": [
    {
     "name": "stderr",
     "output_type": "stream",
     "text": [
      "/home/debashish/anaconda3/lib/python3.9/site-packages/statsmodels/regression/mixed_linear_model.py:2237: ConvergenceWarning: The MLE may be on the boundary of the parameter space.\n",
      "  warnings.warn(msg, ConvergenceWarning)\n"
     ]
    }
   ],
   "source": [
    "mdf = md.fit()"
   ]
  },
  {
   "cell_type": "code",
   "execution_count": 6,
   "metadata": {},
   "outputs": [
    {
     "name": "stdout",
     "output_type": "stream",
     "text": [
      "          Mixed Linear Model Regression Results\n",
      "=========================================================\n",
      "Model:            MixedLM Dependent Variable: wtp        \n",
      "No. Observations: 9310    Method:             REML       \n",
      "No. Groups:       2       Scale:              0.9944     \n",
      "Min. group size:  4629    Log-Likelihood:     -13196.9283\n",
      "Max. group size:  4681    Converged:          Yes        \n",
      "Mean group size:  4655.0                                 \n",
      "---------------------------------------------------------\n",
      "               Coef.  Std.Err.   z    P>|z| [0.025 0.975]\n",
      "---------------------------------------------------------\n",
      "Intercept       0.000    0.010  0.000 1.000 -0.020  0.020\n",
      "ChangeAnxiety   0.069    0.019  3.676 0.000  0.032  0.106\n",
      "age            -0.025    0.011 -2.391 0.017 -0.046 -0.005\n",
      "gender          0.013    0.011  1.183 0.237 -0.008  0.033\n",
      "Group Var       0.000    0.001                           \n",
      "=========================================================\n",
      "\n"
     ]
    }
   ],
   "source": [
    "print(mdf.summary())"
   ]
  }
 ],
 "metadata": {
  "kernelspec": {
   "display_name": "base",
   "language": "python",
   "name": "python3"
  },
  "language_info": {
   "codemirror_mode": {
    "name": "ipython",
    "version": 3
   },
   "file_extension": ".py",
   "mimetype": "text/x-python",
   "name": "python",
   "nbconvert_exporter": "python",
   "pygments_lexer": "ipython3",
   "version": "3.9.16"
  },
  "orig_nbformat": 4
 },
 "nbformat": 4,
 "nbformat_minor": 2
}
