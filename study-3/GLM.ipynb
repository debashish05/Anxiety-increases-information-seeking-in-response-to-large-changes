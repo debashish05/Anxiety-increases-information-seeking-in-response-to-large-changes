{
 "cells": [
  {
   "cell_type": "code",
   "execution_count": 1,
   "metadata": {},
   "outputs": [],
   "source": [
    "import pandas as pd\n",
    "import statsmodels.api as sm\n",
    "from statsmodels.stats.outliers_influence import variance_inflation_factor\n",
    "from statsmodels.formula.api import ols\n",
    "from statsmodels.stats.diagnostic import het_white\n",
    "import seaborn as sns\n",
    "import matplotlib.pyplot as plt\n",
    "import matplotlib.pyplot as mp\n",
    "import pandas as pd\n",
    "import statsmodels.api as sm\n",
    "from statsmodels.formula.api import ols\n",
    "import statsmodels.formula.api as smf\n",
    "import numpy as np"
   ]
  },
  {
   "cell_type": "code",
   "execution_count": 2,
   "metadata": {},
   "outputs": [],
   "source": [
    "data = pd.read_csv('Study2bLinearRegressionData.csv')"
   ]
  },
  {
   "cell_type": "code",
   "execution_count": 3,
   "metadata": {},
   "outputs": [
    {
     "data": {
      "text/html": [
       "<div>\n",
       "<style scoped>\n",
       "    .dataframe tbody tr th:only-of-type {\n",
       "        vertical-align: middle;\n",
       "    }\n",
       "\n",
       "    .dataframe tbody tr th {\n",
       "        vertical-align: top;\n",
       "    }\n",
       "\n",
       "    .dataframe thead th {\n",
       "        text-align: right;\n",
       "    }\n",
       "</style>\n",
       "<table border=\"1\" class=\"dataframe\">\n",
       "  <thead>\n",
       "    <tr style=\"text-align: right;\">\n",
       "      <th></th>\n",
       "      <th>Gender</th>\n",
       "      <th>Group</th>\n",
       "      <th>STAI_CHANGE</th>\n",
       "      <th>Age</th>\n",
       "      <th>vWTP</th>\n",
       "      <th>WTPsignesMarketChange</th>\n",
       "      <th>WTPabsMarketChange</th>\n",
       "    </tr>\n",
       "  </thead>\n",
       "  <tbody>\n",
       "    <tr>\n",
       "      <th>count</th>\n",
       "      <td>48.000000</td>\n",
       "      <td>48.000000</td>\n",
       "      <td>48.000000</td>\n",
       "      <td>48.000000</td>\n",
       "      <td>48.000000</td>\n",
       "      <td>48.000000</td>\n",
       "      <td>48.000000</td>\n",
       "    </tr>\n",
       "    <tr>\n",
       "      <th>mean</th>\n",
       "      <td>1.416667</td>\n",
       "      <td>0.500000</td>\n",
       "      <td>3.500000</td>\n",
       "      <td>22.708333</td>\n",
       "      <td>3.272232</td>\n",
       "      <td>1.152707</td>\n",
       "      <td>1.062964</td>\n",
       "    </tr>\n",
       "    <tr>\n",
       "      <th>std</th>\n",
       "      <td>0.498224</td>\n",
       "      <td>0.505291</td>\n",
       "      <td>4.476891</td>\n",
       "      <td>4.222323</td>\n",
       "      <td>9.495732</td>\n",
       "      <td>3.105085</td>\n",
       "      <td>3.642526</td>\n",
       "    </tr>\n",
       "    <tr>\n",
       "      <th>min</th>\n",
       "      <td>1.000000</td>\n",
       "      <td>0.000000</td>\n",
       "      <td>-3.000000</td>\n",
       "      <td>19.000000</td>\n",
       "      <td>-48.201117</td>\n",
       "      <td>-1.456725</td>\n",
       "      <td>-15.325246</td>\n",
       "    </tr>\n",
       "    <tr>\n",
       "      <th>25%</th>\n",
       "      <td>1.000000</td>\n",
       "      <td>0.000000</td>\n",
       "      <td>0.000000</td>\n",
       "      <td>20.000000</td>\n",
       "      <td>0.052937</td>\n",
       "      <td>-0.244293</td>\n",
       "      <td>-0.003275</td>\n",
       "    </tr>\n",
       "    <tr>\n",
       "      <th>50%</th>\n",
       "      <td>1.000000</td>\n",
       "      <td>0.500000</td>\n",
       "      <td>3.000000</td>\n",
       "      <td>20.500000</td>\n",
       "      <td>1.800000</td>\n",
       "      <td>0.003407</td>\n",
       "      <td>0.148469</td>\n",
       "    </tr>\n",
       "    <tr>\n",
       "      <th>75%</th>\n",
       "      <td>2.000000</td>\n",
       "      <td>1.000000</td>\n",
       "      <td>6.250000</td>\n",
       "      <td>23.500000</td>\n",
       "      <td>6.732407</td>\n",
       "      <td>0.601672</td>\n",
       "      <td>1.764203</td>\n",
       "    </tr>\n",
       "    <tr>\n",
       "      <th>max</th>\n",
       "      <td>2.000000</td>\n",
       "      <td>1.000000</td>\n",
       "      <td>15.000000</td>\n",
       "      <td>34.000000</td>\n",
       "      <td>22.092308</td>\n",
       "      <td>12.732636</td>\n",
       "      <td>10.808173</td>\n",
       "    </tr>\n",
       "  </tbody>\n",
       "</table>\n",
       "</div>"
      ],
      "text/plain": [
       "          Gender      Group  STAI_CHANGE        Age       vWTP  \\\n",
       "count  48.000000  48.000000    48.000000  48.000000  48.000000   \n",
       "mean    1.416667   0.500000     3.500000  22.708333   3.272232   \n",
       "std     0.498224   0.505291     4.476891   4.222323   9.495732   \n",
       "min     1.000000   0.000000    -3.000000  19.000000 -48.201117   \n",
       "25%     1.000000   0.000000     0.000000  20.000000   0.052937   \n",
       "50%     1.000000   0.500000     3.000000  20.500000   1.800000   \n",
       "75%     2.000000   1.000000     6.250000  23.500000   6.732407   \n",
       "max     2.000000   1.000000    15.000000  34.000000  22.092308   \n",
       "\n",
       "       WTPsignesMarketChange  WTPabsMarketChange  \n",
       "count              48.000000           48.000000  \n",
       "mean                1.152707            1.062964  \n",
       "std                 3.105085            3.642526  \n",
       "min                -1.456725          -15.325246  \n",
       "25%                -0.244293           -0.003275  \n",
       "50%                 0.003407            0.148469  \n",
       "75%                 0.601672            1.764203  \n",
       "max                12.732636           10.808173  "
      ]
     },
     "execution_count": 3,
     "metadata": {},
     "output_type": "execute_result"
    }
   ],
   "source": [
    "data = data.dropna()\n",
    "data.describe()"
   ]
  },
  {
   "cell_type": "code",
   "execution_count": 4,
   "metadata": {},
   "outputs": [
    {
     "name": "stdout",
     "output_type": "stream",
     "text": [
      "Subject length of unique values: 48\n",
      "Gender length of unique values: 2\n",
      "Group length of unique values: 2\n",
      "STAI_CHANGE length of unique values: 15\n",
      "Age length of unique values: 13\n",
      "vWTP length of unique values: 48\n",
      "WTPsignesMarketChange length of unique values: 48\n",
      "WTPabsMarketChange length of unique values: 48\n"
     ]
    }
   ],
   "source": [
    "for key in data.keys():\n",
    "    print(key,\"length of unique values:\",len(set(data[key].tolist())))"
   ]
  },
  {
   "cell_type": "code",
   "execution_count": 5,
   "metadata": {},
   "outputs": [
    {
     "name": "stderr",
     "output_type": "stream",
     "text": [
      "/tmp/ipykernel_39339/3515656466.py:1: FutureWarning: The default value of numeric_only in DataFrame.corr is deprecated. In a future version, it will default to False. Select only valid columns or specify the value of numeric_only to silence this warning.\n",
      "  dataplot = sns.heatmap(data.corr(),cmap=\"YlGnBu\")\n"
     ]
    },
    {
     "data": {
      "image/png": "[encoded data removed]",
      "text/plain": [
       "<Figure size 640x480 with 2 Axes>"
      ]
     },
     "metadata": {},
     "output_type": "display_data"
    }
   ],
   "source": [
    "dataplot = sns.heatmap(data.corr(),cmap=\"YlGnBu\")\n",
    "plt.show()"
   ]
  },
  {
   "cell_type": "code",
   "execution_count": 6,
   "metadata": {},
   "outputs": [],
   "source": [
    "X=data\n",
    "Y=data[\"WTPabsMarketChange\"]\n",
    "X = X.drop(['WTPabsMarketChange',\"WTPsignesMarketChange\",\"vWTP\",\"Subject\"], axis=1)"
   ]
  },
  {
   "cell_type": "code",
   "execution_count": 7,
   "metadata": {},
   "outputs": [
    {
     "data": {
      "text/html": [
       "<div>\n",
       "<style scoped>\n",
       "    .dataframe tbody tr th:only-of-type {\n",
       "        vertical-align: middle;\n",
       "    }\n",
       "\n",
       "    .dataframe tbody tr th {\n",
       "        vertical-align: top;\n",
       "    }\n",
       "\n",
       "    .dataframe thead th {\n",
       "        text-align: right;\n",
       "    }\n",
       "</style>\n",
       "<table border=\"1\" class=\"dataframe\">\n",
       "  <thead>\n",
       "    <tr style=\"text-align: right;\">\n",
       "      <th></th>\n",
       "      <th>VIF</th>\n",
       "      <th>Column</th>\n",
       "    </tr>\n",
       "  </thead>\n",
       "  <tbody>\n",
       "    <tr>\n",
       "      <th>3</th>\n",
       "      <td>8.264248</td>\n",
       "      <td>Age</td>\n",
       "    </tr>\n",
       "    <tr>\n",
       "      <th>0</th>\n",
       "      <td>8.126544</td>\n",
       "      <td>Gender</td>\n",
       "    </tr>\n",
       "    <tr>\n",
       "      <th>1</th>\n",
       "      <td>4.019280</td>\n",
       "      <td>Group</td>\n",
       "    </tr>\n",
       "    <tr>\n",
       "      <th>2</th>\n",
       "      <td>3.292777</td>\n",
       "      <td>STAI_CHANGE</td>\n",
       "    </tr>\n",
       "  </tbody>\n",
       "</table>\n",
       "</div>"
      ],
      "text/plain": [
       "        VIF       Column\n",
       "3  8.264248          Age\n",
       "0  8.126544       Gender\n",
       "1  4.019280        Group\n",
       "2  3.292777  STAI_CHANGE"
      ]
     },
     "execution_count": 7,
     "metadata": {},
     "output_type": "execute_result"
    }
   ],
   "source": [
    "vif_info = pd.DataFrame()\n",
    "vif_info['VIF'] = [variance_inflation_factor(X.values, i) for i in range(X.shape[1])]\n",
    "vif_info['Column'] = X.columns\n",
    "vif_info.sort_values('VIF', ascending=False)"
   ]
  },
  {
   "cell_type": "code",
   "execution_count": 8,
   "metadata": {},
   "outputs": [],
   "source": [
    "for f in X.columns:\n",
    "    X[f] = (X[f] - X[f].mean()) / X[f].std()"
   ]
  },
  {
   "cell_type": "code",
   "execution_count": 9,
   "metadata": {},
   "outputs": [
    {
     "name": "stderr",
     "output_type": "stream",
     "text": [
      "/tmp/ipykernel_39339/1038815728.py:2: FutureWarning: The default value of numeric_only in DataFrame.mean is deprecated. In a future version, it will default to False. In addition, specifying 'numeric_only=None' is deprecated. Select only valid columns or specify the value of numeric_only to silence this warning.\n",
      "  data=(df-df.mean())/df.std()\n",
      "/tmp/ipykernel_39339/1038815728.py:2: FutureWarning: The default value of numeric_only in DataFrame.std is deprecated. In a future version, it will default to False. In addition, specifying 'numeric_only=None' is deprecated. Select only valid columns or specify the value of numeric_only to silence this warning.\n",
      "  data=(df-df.mean())/df.std()\n"
     ]
    }
   ],
   "source": [
    "df=data\n",
    "data=(df-df.mean())/df.std()"
   ]
  },
  {
   "attachments": {},
   "cell_type": "markdown",
   "metadata": {},
   "source": [
    "WTPabsmarketchange = β0 + β1* Trait Anxiety score + β2*Age + β3*Gender "
   ]
  },
  {
   "cell_type": "code",
   "execution_count": 10,
   "metadata": {},
   "outputs": [
    {
     "name": "stdout",
     "output_type": "stream",
     "text": [
      "                 Generalized Linear Model Regression Results                  \n",
      "==============================================================================\n",
      "Dep. Variable:                   vWTP   No. Observations:                   48\n",
      "Model:                            GLM   Df Residuals:                       43\n",
      "Model Family:                Binomial   Df Model:                            4\n",
      "Link Function:                  Logit   Scale:                          1.0000\n",
      "Method:                          IRLS   Log-Likelihood:                    nan\n",
      "Date:                Sat, 06 May 2023   Deviance:                       2295.7\n",
      "Time:                        18:57:07   Pearson chi2:                 2.09e+17\n",
      "No. Iterations:                    18   Pseudo R-squ. (CS):                nan\n",
      "Covariance Type:            nonrobust                                         \n",
      "===================================================================================\n",
      "                      coef    std err          z      P>|z|      [0.025      0.975]\n",
      "-----------------------------------------------------------------------------------\n",
      "Intercept       -4.611e+15   9.84e+06  -4.69e+08      0.000   -4.61e+15   -4.61e+15\n",
      "Gender           6.166e+14   9.89e+06   6.24e+07      0.000    6.17e+14    6.17e+14\n",
      "Age             -3.506e+15   1.03e+07  -3.42e+08      0.000   -3.51e+15   -3.51e+15\n",
      "STAI_CHANGE      5.127e+15   1.03e+07   4.99e+08      0.000    5.13e+15    5.13e+15\n",
      "Age:STAI_CHANGE  6.999e+15   1.19e+07   5.89e+08      0.000       7e+15       7e+15\n",
      "===================================================================================\n"
     ]
    },
    {
     "name": "stderr",
     "output_type": "stream",
     "text": [
      "/home/debashish/anaconda3/lib/python3.9/site-packages/statsmodels/genmod/families/links.py:187: RuntimeWarning: overflow encountered in exp\n",
      "  t = np.exp(-z)\n",
      "/home/debashish/anaconda3/lib/python3.9/site-packages/statsmodels/genmod/families/family.py:1014: RuntimeWarning: divide by zero encountered in log\n",
      "  special.gammaln(n - y + 1) + y * np.log(mu / (1 - mu + 1e-20)) +\n",
      "/home/debashish/anaconda3/lib/python3.9/site-packages/numpy/core/fromnumeric.py:86: RuntimeWarning: invalid value encountered in reduce\n",
      "  return ufunc.reduce(obj, axis, dtype, out, **passkwargs)\n"
     ]
    }
   ],
   "source": [
    "formula = 'vWTP ~ Gender + Age + STAI_CHANGE + Age * STAI_CHANGE'\n",
    "model = smf.glm(formula = formula, data=data, family=sm.families.Binomial())\n",
    "result = model.fit()\n",
    "print(result.summary())"
   ]
  }
 ],
 "metadata": {
  "kernelspec": {
   "display_name": "base",
   "language": "python",
   "name": "python3"
  },
  "language_info": {
   "codemirror_mode": {
    "name": "ipython",
    "version": 3
   },
   "file_extension": ".py",
   "mimetype": "text/x-python",
   "name": "python",
   "nbconvert_exporter": "python",
   "pygments_lexer": "ipython3",
   "version": "3.9.16"
  },
  "orig_nbformat": 4
 },
 "nbformat": 4,
 "nbformat_minor": 2
}
