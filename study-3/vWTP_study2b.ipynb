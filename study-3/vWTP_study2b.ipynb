{
 "cells": [
  {
   "cell_type": "code",
   "execution_count": 2,
   "metadata": {},
   "outputs": [],
   "source": [
    "import pandas as pd\n",
    "import statsmodels.api as sm\n",
    "from statsmodels.stats.outliers_influence import variance_inflation_factor\n",
    "from statsmodels.formula.api import ols\n",
    "from statsmodels.stats.diagnostic import het_white\n",
    "import seaborn as sns\n",
    "import matplotlib.pyplot as plt"
   ]
  },
  {
   "cell_type": "code",
   "execution_count": 3,
   "metadata": {},
   "outputs": [
    {
     "name": "stdout",
     "output_type": "stream",
     "text": [
      "   Subject  Gender  Group  STAI_CHANGE  Age       vWTP  WTPsignesMarketChange  \\\n",
      "0     '01'       2      0            4   28   3.750000              -0.324926   \n",
      "1     '02'       1      1            6   20  -0.050000               0.094329   \n",
      "2     '04'       1      1           15   20  -0.914573               6.314095   \n",
      "3     '05'       2      0            0   33   5.253807              -0.655802   \n",
      "4     '06'       2      1            5   32   1.650273              -0.226537   \n",
      "5     '07'       1      0           -2   19   9.477987              -0.782589   \n",
      "6     '09'       2      0           -2   29  -0.512563              -0.027957   \n",
      "7     '10'       1      1           11   22  11.555000              -0.926557   \n",
      "8     '11'       2      1            6   22   7.621212              12.493112   \n",
      "9     '12'       1      0           -2   20   0.186869              -0.028415   \n",
      "10    '13'       2      1            9   22  -0.281407              -0.000617   \n",
      "11    '14'       1      0           -3   22  -0.040816               0.053683   \n",
      "12    '15'       1      1            4   21   4.040609               1.369303   \n",
      "13    '17'       1      1           11   30  15.964467               3.769395   \n",
      "14    '18'       1      0            0   30   1.221106              -0.030129   \n",
      "15    '19'       2      1            0   20   2.581921               0.319200   \n",
      "16    '21'       1      1            5   28   0.010929              -0.000214   \n",
      "17    '23'       1      1            9   20   0.942708               0.233416   \n",
      "18    '24'       2      0            1   29   0.010471               0.007028   \n",
      "19    '26'       2      1            7   19   0.703518               0.058810   \n",
      "20    '27'       1      1           10   19  13.545000               3.032273   \n",
      "21    '28'       2      0            3   23   3.214286              -0.398192   \n",
      "22    '29'       1      1            1   26   0.217391              -0.036320   \n",
      "23    '31'       1      1           11   20   0.241206               0.122775   \n",
      "24    '32'       1      1            1   20   0.045918              -0.032168   \n",
      "25    '33'       1      0            1   20   4.410000               0.214557   \n",
      "26    '35'       1      0            0   23  -1.025126              -0.615863   \n",
      "27    '36'       1      1           11   20   4.161458              -0.267627   \n",
      "28    '38'       1      1            4   19  11.934010               0.055875   \n",
      "29    '39'       2      1            9   20  -0.405000              -0.131879   \n",
      "30    '40'       2      0           -3   23   7.314721              -0.236515   \n",
      "31    '41'       1      0            0   20   0.158163               0.196650   \n",
      "32    '43'       1      0            0   28   1.933333               0.489461   \n",
      "33    '44'       1      1            6   23  20.423469              12.732636   \n",
      "34    '45'       2      1            3   21   0.765306               0.587825   \n",
      "35    '46'       2      1            4   22   0.055276              -0.017801   \n",
      "36    '47'       2      1            3   20   5.035176               2.922490   \n",
      "37    '48'       2      1            8   21   2.316583               1.721815   \n",
      "38    '49'       1      0            0   25 -48.201117               6.513875   \n",
      "39    '50'       1      0            1   34   9.897849              -0.720432   \n",
      "40    '51'       1      0           -2   19  -0.010471              -0.004578   \n",
      "41    '52'       1      0            8   20   6.621212               8.400949   \n",
      "42    '53'       2      0            0   20   1.666667               0.643210   \n",
      "43    '54'       1      0            3   20   7.065990              -1.456725   \n",
      "44    '55'       1      0            2   20  15.565657              -0.412723   \n",
      "45    '56'       2      0            0   19  22.092308              -0.306713   \n",
      "46    '57'       2      0            0   19   3.862245               1.301328   \n",
      "47    '58'       2      0            0   20   0.994083              -0.676895   \n",
      "\n",
      "    WTPabsMarketChange  \n",
      "0             0.223186  \n",
      "1            -0.038469  \n",
      "2             4.143837  \n",
      "3            -1.128851  \n",
      "4             1.635698  \n",
      "5            -2.175048  \n",
      "6             0.539484  \n",
      "7            10.808173  \n",
      "8            -1.085966  \n",
      "9             0.125147  \n",
      "10            0.303216  \n",
      "11            0.022238  \n",
      "12            1.489141  \n",
      "13            8.779714  \n",
      "14            0.021685  \n",
      "15            0.276445  \n",
      "16           -0.005960  \n",
      "17            0.091144  \n",
      "18           -0.003030  \n",
      "19            0.250596  \n",
      "20            5.437016  \n",
      "21            2.334127  \n",
      "22            0.026010  \n",
      "23           -0.052005  \n",
      "24            0.018590  \n",
      "25           -0.841705  \n",
      "26           -0.349164  \n",
      "27            0.096865  \n",
      "28            2.335726  \n",
      "29            0.156721  \n",
      "30            2.866593  \n",
      "31            0.145035  \n",
      "32            0.151904  \n",
      "33           -0.039235  \n",
      "34            0.135316  \n",
      "35           -0.004012  \n",
      "36            1.158737  \n",
      "37            1.610081  \n",
      "38          -15.325246  \n",
      "39            7.406200  \n",
      "40            0.005357  \n",
      "41            2.537105  \n",
      "42           -0.031235  \n",
      "43            2.149720  \n",
      "44            7.654739  \n",
      "45            6.377409  \n",
      "46            0.093087  \n",
      "47            0.696139  \n"
     ]
    }
   ],
   "source": [
    "data = pd.read_csv('Study2bLinearRegressionData.csv')\n",
    "print(data)"
   ]
  },
  {
   "cell_type": "code",
   "execution_count": 4,
   "metadata": {},
   "outputs": [
    {
     "data": {
      "text/html": [
       "<div>\n",
       "<style scoped>\n",
       "    .dataframe tbody tr th:only-of-type {\n",
       "        vertical-align: middle;\n",
       "    }\n",
       "\n",
       "    .dataframe tbody tr th {\n",
       "        vertical-align: top;\n",
       "    }\n",
       "\n",
       "    .dataframe thead th {\n",
       "        text-align: right;\n",
       "    }\n",
       "</style>\n",
       "<table border=\"1\" class=\"dataframe\">\n",
       "  <thead>\n",
       "    <tr style=\"text-align: right;\">\n",
       "      <th></th>\n",
       "      <th>Gender</th>\n",
       "      <th>Group</th>\n",
       "      <th>STAI_CHANGE</th>\n",
       "      <th>Age</th>\n",
       "      <th>vWTP</th>\n",
       "      <th>WTPsignesMarketChange</th>\n",
       "      <th>WTPabsMarketChange</th>\n",
       "    </tr>\n",
       "  </thead>\n",
       "  <tbody>\n",
       "    <tr>\n",
       "      <th>count</th>\n",
       "      <td>48.000000</td>\n",
       "      <td>48.000000</td>\n",
       "      <td>48.000000</td>\n",
       "      <td>48.000000</td>\n",
       "      <td>48.000000</td>\n",
       "      <td>48.000000</td>\n",
       "      <td>48.000000</td>\n",
       "    </tr>\n",
       "    <tr>\n",
       "      <th>mean</th>\n",
       "      <td>1.416667</td>\n",
       "      <td>0.500000</td>\n",
       "      <td>3.500000</td>\n",
       "      <td>22.708333</td>\n",
       "      <td>3.272232</td>\n",
       "      <td>1.152707</td>\n",
       "      <td>1.062964</td>\n",
       "    </tr>\n",
       "    <tr>\n",
       "      <th>std</th>\n",
       "      <td>0.498224</td>\n",
       "      <td>0.505291</td>\n",
       "      <td>4.476891</td>\n",
       "      <td>4.222323</td>\n",
       "      <td>9.495732</td>\n",
       "      <td>3.105085</td>\n",
       "      <td>3.642526</td>\n",
       "    </tr>\n",
       "    <tr>\n",
       "      <th>min</th>\n",
       "      <td>1.000000</td>\n",
       "      <td>0.000000</td>\n",
       "      <td>-3.000000</td>\n",
       "      <td>19.000000</td>\n",
       "      <td>-48.201117</td>\n",
       "      <td>-1.456725</td>\n",
       "      <td>-15.325246</td>\n",
       "    </tr>\n",
       "    <tr>\n",
       "      <th>25%</th>\n",
       "      <td>1.000000</td>\n",
       "      <td>0.000000</td>\n",
       "      <td>0.000000</td>\n",
       "      <td>20.000000</td>\n",
       "      <td>0.052937</td>\n",
       "      <td>-0.244293</td>\n",
       "      <td>-0.003275</td>\n",
       "    </tr>\n",
       "    <tr>\n",
       "      <th>50%</th>\n",
       "      <td>1.000000</td>\n",
       "      <td>0.500000</td>\n",
       "      <td>3.000000</td>\n",
       "      <td>20.500000</td>\n",
       "      <td>1.800000</td>\n",
       "      <td>0.003407</td>\n",
       "      <td>0.148469</td>\n",
       "    </tr>\n",
       "    <tr>\n",
       "      <th>75%</th>\n",
       "      <td>2.000000</td>\n",
       "      <td>1.000000</td>\n",
       "      <td>6.250000</td>\n",
       "      <td>23.500000</td>\n",
       "      <td>6.732407</td>\n",
       "      <td>0.601672</td>\n",
       "      <td>1.764203</td>\n",
       "    </tr>\n",
       "    <tr>\n",
       "      <th>max</th>\n",
       "      <td>2.000000</td>\n",
       "      <td>1.000000</td>\n",
       "      <td>15.000000</td>\n",
       "      <td>34.000000</td>\n",
       "      <td>22.092308</td>\n",
       "      <td>12.732636</td>\n",
       "      <td>10.808173</td>\n",
       "    </tr>\n",
       "  </tbody>\n",
       "</table>\n",
       "</div>"
      ],
      "text/plain": [
       "          Gender      Group  STAI_CHANGE        Age       vWTP  \\\n",
       "count  48.000000  48.000000    48.000000  48.000000  48.000000   \n",
       "mean    1.416667   0.500000     3.500000  22.708333   3.272232   \n",
       "std     0.498224   0.505291     4.476891   4.222323   9.495732   \n",
       "min     1.000000   0.000000    -3.000000  19.000000 -48.201117   \n",
       "25%     1.000000   0.000000     0.000000  20.000000   0.052937   \n",
       "50%     1.000000   0.500000     3.000000  20.500000   1.800000   \n",
       "75%     2.000000   1.000000     6.250000  23.500000   6.732407   \n",
       "max     2.000000   1.000000    15.000000  34.000000  22.092308   \n",
       "\n",
       "       WTPsignesMarketChange  WTPabsMarketChange  \n",
       "count              48.000000           48.000000  \n",
       "mean                1.152707            1.062964  \n",
       "std                 3.105085            3.642526  \n",
       "min                -1.456725          -15.325246  \n",
       "25%                -0.244293           -0.003275  \n",
       "50%                 0.003407            0.148469  \n",
       "75%                 0.601672            1.764203  \n",
       "max                12.732636           10.808173  "
      ]
     },
     "execution_count": 4,
     "metadata": {},
     "output_type": "execute_result"
    }
   ],
   "source": [
    "data = data.dropna()\n",
    "data.describe()"
   ]
  },
  {
   "cell_type": "code",
   "execution_count": 5,
   "metadata": {},
   "outputs": [
    {
     "name": "stdout",
     "output_type": "stream",
     "text": [
      "Subject length of unique values: 48\n",
      "Gender length of unique values: 2\n",
      "Group length of unique values: 2\n",
      "STAI_CHANGE length of unique values: 15\n",
      "Age length of unique values: 13\n",
      "vWTP length of unique values: 48\n",
      "WTPsignesMarketChange length of unique values: 48\n",
      "WTPabsMarketChange length of unique values: 48\n"
     ]
    }
   ],
   "source": [
    "for key in data.keys():\n",
    "    print(key,\"length of unique values:\",len(set(data[key].tolist())))"
   ]
  },
  {
   "cell_type": "code",
   "execution_count": 6,
   "metadata": {},
   "outputs": [
    {
     "name": "stderr",
     "output_type": "stream",
     "text": [
      "/tmp/ipykernel_38536/3515656466.py:1: FutureWarning: The default value of numeric_only in DataFrame.corr is deprecated. In a future version, it will default to False. Select only valid columns or specify the value of numeric_only to silence this warning.\n",
      "  dataplot = sns.heatmap(data.corr(),cmap=\"YlGnBu\")\n"
     ]
    },
    {
     "data": {
      "image/png": "[encoded data removed]",
      "text/plain": [
       "<Figure size 640x480 with 2 Axes>"
      ]
     },
     "metadata": {},
     "output_type": "display_data"
    }
   ],
   "source": [
    "dataplot = sns.heatmap(data.corr(),cmap=\"YlGnBu\")\n",
    "plt.show()"
   ]
  },
  {
   "cell_type": "code",
   "execution_count": 7,
   "metadata": {},
   "outputs": [],
   "source": [
    "X=data\n",
    "Y=data[\"vWTP\"]\n",
    "X = X.drop(['WTPabsMarketChange',\"WTPsignesMarketChange\",\"vWTP\",\"Subject\"], axis=1)"
   ]
  },
  {
   "cell_type": "code",
   "execution_count": 8,
   "metadata": {},
   "outputs": [
    {
     "data": {
      "text/html": [
       "<div>\n",
       "<style scoped>\n",
       "    .dataframe tbody tr th:only-of-type {\n",
       "        vertical-align: middle;\n",
       "    }\n",
       "\n",
       "    .dataframe tbody tr th {\n",
       "        vertical-align: top;\n",
       "    }\n",
       "\n",
       "    .dataframe thead th {\n",
       "        text-align: right;\n",
       "    }\n",
       "</style>\n",
       "<table border=\"1\" class=\"dataframe\">\n",
       "  <thead>\n",
       "    <tr style=\"text-align: right;\">\n",
       "      <th></th>\n",
       "      <th>VIF</th>\n",
       "      <th>Column</th>\n",
       "    </tr>\n",
       "  </thead>\n",
       "  <tbody>\n",
       "    <tr>\n",
       "      <th>3</th>\n",
       "      <td>8.264248</td>\n",
       "      <td>Age</td>\n",
       "    </tr>\n",
       "    <tr>\n",
       "      <th>0</th>\n",
       "      <td>8.126544</td>\n",
       "      <td>Gender</td>\n",
       "    </tr>\n",
       "    <tr>\n",
       "      <th>1</th>\n",
       "      <td>4.019280</td>\n",
       "      <td>Group</td>\n",
       "    </tr>\n",
       "    <tr>\n",
       "      <th>2</th>\n",
       "      <td>3.292777</td>\n",
       "      <td>STAI_CHANGE</td>\n",
       "    </tr>\n",
       "  </tbody>\n",
       "</table>\n",
       "</div>"
      ],
      "text/plain": [
       "        VIF       Column\n",
       "3  8.264248          Age\n",
       "0  8.126544       Gender\n",
       "1  4.019280        Group\n",
       "2  3.292777  STAI_CHANGE"
      ]
     },
     "execution_count": 8,
     "metadata": {},
     "output_type": "execute_result"
    }
   ],
   "source": [
    "vif_info = pd.DataFrame()\n",
    "vif_info['VIF'] = [variance_inflation_factor(X.values, i) for i in range(X.shape[1])]\n",
    "vif_info['Column'] = X.columns\n",
    "vif_info.sort_values('VIF', ascending=False)"
   ]
  },
  {
   "cell_type": "code",
   "execution_count": 9,
   "metadata": {},
   "outputs": [],
   "source": [
    "for f in X.columns:\n",
    "    X[f] = (X[f] - X[f].mean()) / X[f].std()"
   ]
  },
  {
   "attachments": {},
   "cell_type": "markdown",
   "metadata": {},
   "source": [
    "WTPabsmarketchange = β0 + β1* Trait Anxiety score + β2*Age + β3*Gender "
   ]
  },
  {
   "cell_type": "code",
   "execution_count": 10,
   "metadata": {},
   "outputs": [
    {
     "name": "stdout",
     "output_type": "stream",
     "text": [
      "                            OLS Regression Results                            \n",
      "==============================================================================\n",
      "Dep. Variable:                   vWTP   R-squared:                       0.029\n",
      "Model:                            OLS   Adj. R-squared:                 -0.061\n",
      "Method:                 Least Squares   F-statistic:                    0.3221\n",
      "Date:                Sat, 06 May 2023   Prob (F-statistic):              0.862\n",
      "Time:                        18:50:19   Log-Likelihood:                -174.94\n",
      "No. Observations:                  48   AIC:                             359.9\n",
      "Df Residuals:                      43   BIC:                             369.2\n",
      "Df Model:                           4                                         \n",
      "Covariance Type:            nonrobust                                         \n",
      "===============================================================================\n",
      "                  coef    std err          t      P>|t|      [0.025      0.975]\n",
      "-------------------------------------------------------------------------------\n",
      "const           3.2722      1.412      2.318      0.025       0.425       6.120\n",
      "Gender          0.3424      1.453      0.236      0.815      -2.589       3.274\n",
      "Group          -0.2448      2.042     -0.120      0.905      -4.364       3.874\n",
      "STAI_CHANGE     1.6045      2.045      0.785      0.437      -2.520       5.729\n",
      "Age            -0.6007      1.455     -0.413      0.682      -3.536       2.334\n",
      "==============================================================================\n",
      "Omnibus:                       57.729   Durbin-Watson:                   2.087\n",
      "Prob(Omnibus):                  0.000   Jarque-Bera (JB):              532.328\n",
      "Skew:                          -2.822   Prob(JB):                    2.55e-116\n",
      "Kurtosis:                      18.307   Cond. No.                         2.52\n",
      "==============================================================================\n",
      "\n",
      "Notes:\n",
      "[1] Standard Errors assume that the covariance matrix of the errors is correctly specified.\n"
     ]
    }
   ],
   "source": [
    "x = sm.add_constant(X)\n",
    "multi_model1 = sm.OLS(Y, x).fit()\n",
    "print(multi_model1.summary())"
   ]
  },
  {
   "cell_type": "code",
   "execution_count": 11,
   "metadata": {},
   "outputs": [
    {
     "data": {
      "image/png": "[encoded data removed]",
      "text/plain": [
       "<Figure size 640x480 with 1 Axes>"
      ]
     },
     "metadata": {},
     "output_type": "display_data"
    }
   ],
   "source": [
    "sns.scatterplot(x=multi_model1.fittedvalues, y=multi_model1.resid)\n",
    "\n",
    "# Add a horizontal line at y=0\n",
    "plt.axhline(y=0, color='r', linestyle='--')\n",
    "\n",
    "# Add axis labels\n",
    "plt.xlabel('vWTP')\n",
    "plt.ylabel('Residuals')\n",
    "\n",
    "# Show the plot\n",
    "plt.show()"
   ]
  },
  {
   "attachments": {},
   "cell_type": "markdown",
   "metadata": {},
   "source": [
    "Q-Q Plot"
   ]
  },
  {
   "cell_type": "code",
   "execution_count": 12,
   "metadata": {},
   "outputs": [
    {
     "data": {
      "image/png": "[encoded data removed]",
      "text/plain": [
       "<Figure size 640x480 with 1 Axes>"
      ]
     },
     "metadata": {},
     "output_type": "display_data"
    }
   ],
   "source": [
    "fig = sm.qqplot(multi_model1.resid, line='45')\n",
    "plt.show()"
   ]
  },
  {
   "cell_type": "code",
   "execution_count": 13,
   "metadata": {},
   "outputs": [
    {
     "name": "stdout",
     "output_type": "stream",
     "text": [
      "{'Test Statistic': 6.142034602979733, 'Test p-value': 0.9087534019144811, 'F-Statistic': 0.42797750492907316, 'F-Test p-value': 0.9412836402662595}\n"
     ]
    }
   ],
   "source": [
    "white_test = het_white(multi_model1.resid,  multi_model1.model.exog)\n",
    "labels = [\"Test Statistic\", \"Test p-value\", \"F-Statistic\", \"F-Test p-value\"]\n",
    "print(dict(zip(labels, white_test)))"
   ]
  },
  {
   "attachments": {},
   "cell_type": "markdown",
   "metadata": {},
   "source": [
    "White’s test uses the following null and alternative hypotheses:\n",
    "\n",
    "    Null (H0): Homoscedasticity is present (residuals are equally scattered)\n",
    "    Alternative (HA): Heteroscedasticity is present (residuals are not equally scattered)\n",
    "\n",
    "Here p value is 0.908, which is less than 0.05. "
   ]
  }
 ],
 "metadata": {
  "kernelspec": {
   "display_name": "base",
   "language": "python",
   "name": "python3"
  },
  "language_info": {
   "codemirror_mode": {
    "name": "ipython",
    "version": 3
   },
   "file_extension": ".py",
   "mimetype": "text/x-python",
   "name": "python",
   "nbconvert_exporter": "python",
   "pygments_lexer": "ipython3",
   "version": "3.9.16"
  },
  "orig_nbformat": 4
 },
 "nbformat": 4,
 "nbformat_minor": 2
}
