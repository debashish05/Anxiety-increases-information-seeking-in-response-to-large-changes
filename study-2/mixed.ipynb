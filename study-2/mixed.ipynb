{
 "cells": [
  {
   "cell_type": "code",
   "execution_count": 1,
   "metadata": {},
   "outputs": [],
   "source": [
    "import pandas as pd\n",
    "import statsmodels.formula.api as smf"
   ]
  },
  {
   "cell_type": "code",
   "execution_count": 2,
   "metadata": {},
   "outputs": [],
   "source": [
    "data = pd.read_csv('Study2aLinearMixedModelData.csv')\n",
    "data = data.dropna()\n",
    "data.describe()\n",
    "\n",
    "df=data\n",
    "data=(df-df.mean())/df.std()"
   ]
  },
  {
   "cell_type": "code",
   "execution_count": 3,
   "metadata": {},
   "outputs": [],
   "source": [
    "md = smf.mixedlm(\"wtp ~ TraitAnxiety + age + gender\" , data, groups=data[\"subj\"])"
   ]
  },
  {
   "cell_type": "code",
   "execution_count": 4,
   "metadata": {},
   "outputs": [],
   "source": [
    "mdf = md.fit()"
   ]
  },
  {
   "cell_type": "code",
   "execution_count": 5,
   "metadata": {},
   "outputs": [
    {
     "name": "stdout",
     "output_type": "stream",
     "text": [
      "         Mixed Linear Model Regression Results\n",
      "========================================================\n",
      "Model:            MixedLM Dependent Variable: wtp       \n",
      "No. Observations: 8097    Method:             REML      \n",
      "No. Groups:       42      Scale:              0.6451    \n",
      "Min. group size:  174     Log-Likelihood:     -9817.3167\n",
      "Max. group size:  200     Converged:          Yes       \n",
      "Mean group size:  192.8                                 \n",
      "--------------------------------------------------------\n",
      "              Coef.  Std.Err.   z    P>|z| [0.025 0.975]\n",
      "--------------------------------------------------------\n",
      "Intercept     -0.001    0.094 -0.014 0.989 -0.186  0.183\n",
      "TraitAnxiety   0.017    0.096  0.174 0.862 -0.171  0.205\n",
      "age           -0.019    0.094 -0.201 0.841 -0.203  0.165\n",
      "gender         0.105    0.096  1.091 0.275 -0.083  0.292\n",
      "Group Var      0.370    0.107                           \n",
      "========================================================\n",
      "\n"
     ]
    }
   ],
   "source": [
    "print(mdf.summary())"
   ]
  }
 ],
 "metadata": {
  "kernelspec": {
   "display_name": "base",
   "language": "python",
   "name": "python3"
  },
  "language_info": {
   "codemirror_mode": {
    "name": "ipython",
    "version": 3
   },
   "file_extension": ".py",
   "mimetype": "text/x-python",
   "name": "python",
   "nbconvert_exporter": "python",
   "pygments_lexer": "ipython3",
   "version": "3.9.16"
  },
  "orig_nbformat": 4
 },
 "nbformat": 4,
 "nbformat_minor": 2
}
