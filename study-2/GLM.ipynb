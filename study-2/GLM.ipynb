{
 "cells": [
  {
   "cell_type": "code",
   "execution_count": 1,
   "metadata": {},
   "outputs": [],
   "source": [
    "import pandas as pd\n",
    "import statsmodels.api as sm\n",
    "from statsmodels.stats.outliers_influence import variance_inflation_factor\n",
    "from statsmodels.formula.api import ols\n",
    "from statsmodels.stats.diagnostic import het_white\n",
    "import seaborn as sns\n",
    "import matplotlib.pyplot as plt\n",
    "import matplotlib.pyplot as mp\n",
    "import pandas as pd\n",
    "import statsmodels.api as sm\n",
    "from statsmodels.formula.api import ols\n",
    "import statsmodels.formula.api as smf\n",
    "import numpy as np"
   ]
  },
  {
   "cell_type": "code",
   "execution_count": 2,
   "metadata": {},
   "outputs": [],
   "source": [
    "data = pd.read_csv('Study2aLinearRegressionData.csv')"
   ]
  },
  {
   "cell_type": "code",
   "execution_count": 3,
   "metadata": {},
   "outputs": [
    {
     "data": {
      "text/html": [
       "<div>\n",
       "<style scoped>\n",
       "    .dataframe tbody tr th:only-of-type {\n",
       "        vertical-align: middle;\n",
       "    }\n",
       "\n",
       "    .dataframe tbody tr th {\n",
       "        vertical-align: top;\n",
       "    }\n",
       "\n",
       "    .dataframe thead th {\n",
       "        text-align: right;\n",
       "    }\n",
       "</style>\n",
       "<table border=\"1\" class=\"dataframe\">\n",
       "  <thead>\n",
       "    <tr style=\"text-align: right;\">\n",
       "      <th></th>\n",
       "      <th>Subject</th>\n",
       "      <th>Gender</th>\n",
       "      <th>Age</th>\n",
       "      <th>Trait Anxiety</th>\n",
       "      <th>WTPabsmarketchange</th>\n",
       "      <th>WTPsignedmarketchange</th>\n",
       "      <th>vWTP</th>\n",
       "    </tr>\n",
       "  </thead>\n",
       "  <tbody>\n",
       "    <tr>\n",
       "      <th>count</th>\n",
       "      <td>42.000000</td>\n",
       "      <td>42.000000</td>\n",
       "      <td>42.000000</td>\n",
       "      <td>42.000000</td>\n",
       "      <td>42.000000</td>\n",
       "      <td>42.000000</td>\n",
       "      <td>42.000000</td>\n",
       "    </tr>\n",
       "    <tr>\n",
       "      <th>mean</th>\n",
       "      <td>21.500000</td>\n",
       "      <td>0.642857</td>\n",
       "      <td>28.023810</td>\n",
       "      <td>42.214286</td>\n",
       "      <td>1.581229</td>\n",
       "      <td>1.228904</td>\n",
       "      <td>3.185740</td>\n",
       "    </tr>\n",
       "    <tr>\n",
       "      <th>std</th>\n",
       "      <td>12.267844</td>\n",
       "      <td>0.484966</td>\n",
       "      <td>11.614726</td>\n",
       "      <td>11.688092</td>\n",
       "      <td>2.960102</td>\n",
       "      <td>3.658151</td>\n",
       "      <td>16.310107</td>\n",
       "    </tr>\n",
       "    <tr>\n",
       "      <th>min</th>\n",
       "      <td>1.000000</td>\n",
       "      <td>0.000000</td>\n",
       "      <td>18.000000</td>\n",
       "      <td>20.000000</td>\n",
       "      <td>-5.010004</td>\n",
       "      <td>-6.731471</td>\n",
       "      <td>-72.765000</td>\n",
       "    </tr>\n",
       "    <tr>\n",
       "      <th>25%</th>\n",
       "      <td>11.250000</td>\n",
       "      <td>0.000000</td>\n",
       "      <td>21.000000</td>\n",
       "      <td>35.000000</td>\n",
       "      <td>-0.023476</td>\n",
       "      <td>-0.284264</td>\n",
       "      <td>0.067235</td>\n",
       "    </tr>\n",
       "    <tr>\n",
       "      <th>50%</th>\n",
       "      <td>21.500000</td>\n",
       "      <td>1.000000</td>\n",
       "      <td>23.500000</td>\n",
       "      <td>39.500000</td>\n",
       "      <td>0.348852</td>\n",
       "      <td>0.218364</td>\n",
       "      <td>0.900119</td>\n",
       "    </tr>\n",
       "    <tr>\n",
       "      <th>75%</th>\n",
       "      <td>31.750000</td>\n",
       "      <td>1.000000</td>\n",
       "      <td>30.750000</td>\n",
       "      <td>51.000000</td>\n",
       "      <td>2.852352</td>\n",
       "      <td>1.324775</td>\n",
       "      <td>7.272843</td>\n",
       "    </tr>\n",
       "    <tr>\n",
       "      <th>max</th>\n",
       "      <td>42.000000</td>\n",
       "      <td>1.000000</td>\n",
       "      <td>66.000000</td>\n",
       "      <td>68.000000</td>\n",
       "      <td>10.873688</td>\n",
       "      <td>15.388281</td>\n",
       "      <td>47.641414</td>\n",
       "    </tr>\n",
       "  </tbody>\n",
       "</table>\n",
       "</div>"
      ],
      "text/plain": [
       "         Subject     Gender        Age  Trait Anxiety  WTPabsmarketchange  \\\n",
       "count  42.000000  42.000000  42.000000      42.000000           42.000000   \n",
       "mean   21.500000   0.642857  28.023810      42.214286            1.581229   \n",
       "std    12.267844   0.484966  11.614726      11.688092            2.960102   \n",
       "min     1.000000   0.000000  18.000000      20.000000           -5.010004   \n",
       "25%    11.250000   0.000000  21.000000      35.000000           -0.023476   \n",
       "50%    21.500000   1.000000  23.500000      39.500000            0.348852   \n",
       "75%    31.750000   1.000000  30.750000      51.000000            2.852352   \n",
       "max    42.000000   1.000000  66.000000      68.000000           10.873688   \n",
       "\n",
       "       WTPsignedmarketchange       vWTP  \n",
       "count              42.000000  42.000000  \n",
       "mean                1.228904   3.185740  \n",
       "std                 3.658151  16.310107  \n",
       "min                -6.731471 -72.765000  \n",
       "25%                -0.284264   0.067235  \n",
       "50%                 0.218364   0.900119  \n",
       "75%                 1.324775   7.272843  \n",
       "max                15.388281  47.641414  "
      ]
     },
     "execution_count": 3,
     "metadata": {},
     "output_type": "execute_result"
    }
   ],
   "source": [
    "data = data.dropna()\n",
    "data.describe()"
   ]
  },
  {
   "cell_type": "code",
   "execution_count": 4,
   "metadata": {},
   "outputs": [
    {
     "name": "stdout",
     "output_type": "stream",
     "text": [
      "Subject length of unique values: 42\n",
      "Gender length of unique values: 2\n",
      "Age length of unique values: 21\n",
      "Trait Anxiety length of unique values: 30\n",
      "WTPabsmarketchange length of unique values: 42\n",
      "WTPsignedmarketchange length of unique values: 42\n",
      "vWTP length of unique values: 42\n"
     ]
    }
   ],
   "source": [
    "for key in data.keys():\n",
    "    print(key,\"length of unique values:\",len(set(data[key].tolist())))"
   ]
  },
  {
   "cell_type": "code",
   "execution_count": 5,
   "metadata": {},
   "outputs": [
    {
     "data": {
      "image/png": "[encoded data removed]",
      "text/plain": [
       "<Figure size 640x480 with 2 Axes>"
      ]
     },
     "metadata": {},
     "output_type": "display_data"
    }
   ],
   "source": [
    "dataplot = sns.heatmap(data.corr(),cmap=\"YlGnBu\")\n",
    "plt.show()"
   ]
  },
  {
   "cell_type": "code",
   "execution_count": 6,
   "metadata": {},
   "outputs": [],
   "source": [
    "X=data\n",
    "Y=data[\"vWTP\"]\n",
    "X = X.drop(['WTPabsmarketchange',\"WTPsignedmarketchange\",\"vWTP\"], axis=1)"
   ]
  },
  {
   "cell_type": "code",
   "execution_count": 7,
   "metadata": {},
   "outputs": [
    {
     "data": {
      "text/html": [
       "<div>\n",
       "<style scoped>\n",
       "    .dataframe tbody tr th:only-of-type {\n",
       "        vertical-align: middle;\n",
       "    }\n",
       "\n",
       "    .dataframe tbody tr th {\n",
       "        vertical-align: top;\n",
       "    }\n",
       "\n",
       "    .dataframe thead th {\n",
       "        text-align: right;\n",
       "    }\n",
       "</style>\n",
       "<table border=\"1\" class=\"dataframe\">\n",
       "  <thead>\n",
       "    <tr style=\"text-align: right;\">\n",
       "      <th></th>\n",
       "      <th>VIF</th>\n",
       "      <th>Column</th>\n",
       "    </tr>\n",
       "  </thead>\n",
       "  <tbody>\n",
       "    <tr>\n",
       "      <th>3</th>\n",
       "      <td>6.268014</td>\n",
       "      <td>Trait Anxiety</td>\n",
       "    </tr>\n",
       "    <tr>\n",
       "      <th>2</th>\n",
       "      <td>6.230957</td>\n",
       "      <td>Age</td>\n",
       "    </tr>\n",
       "    <tr>\n",
       "      <th>0</th>\n",
       "      <td>5.444430</td>\n",
       "      <td>Subject</td>\n",
       "    </tr>\n",
       "    <tr>\n",
       "      <th>1</th>\n",
       "      <td>2.866686</td>\n",
       "      <td>Gender</td>\n",
       "    </tr>\n",
       "  </tbody>\n",
       "</table>\n",
       "</div>"
      ],
      "text/plain": [
       "        VIF         Column\n",
       "3  6.268014  Trait Anxiety\n",
       "2  6.230957            Age\n",
       "0  5.444430        Subject\n",
       "1  2.866686         Gender"
      ]
     },
     "execution_count": 7,
     "metadata": {},
     "output_type": "execute_result"
    }
   ],
   "source": [
    "vif_info = pd.DataFrame()\n",
    "vif_info['VIF'] = [variance_inflation_factor(X.values, i) for i in range(X.shape[1])]\n",
    "vif_info['Column'] = X.columns\n",
    "vif_info.sort_values('VIF', ascending=False)"
   ]
  },
  {
   "cell_type": "code",
   "execution_count": 8,
   "metadata": {},
   "outputs": [],
   "source": [
    "for f in X.columns:\n",
    "    X[f] = (X[f] - X[f].mean()) / X[f].std()"
   ]
  },
  {
   "cell_type": "code",
   "execution_count": 9,
   "metadata": {},
   "outputs": [],
   "source": [
    "data.rename(columns = {'Trait Anxiety':'Trait_Anxiety'}, inplace = True)"
   ]
  },
  {
   "cell_type": "code",
   "execution_count": 10,
   "metadata": {},
   "outputs": [],
   "source": [
    "df=data\n",
    "data=(df-df.mean())/df.std()"
   ]
  },
  {
   "attachments": {},
   "cell_type": "markdown",
   "metadata": {},
   "source": [
    "WTPabsmarketchange = β0 + β1* Trait Anxiety score + β2*Age + β3*Gender "
   ]
  },
  {
   "cell_type": "code",
   "execution_count": 11,
   "metadata": {},
   "outputs": [
    {
     "name": "stdout",
     "output_type": "stream",
     "text": [
      "                 Generalized Linear Model Regression Results                  \n",
      "==============================================================================\n",
      "Dep. Variable:                   vWTP   No. Observations:                   42\n",
      "Model:                            GLM   Df Residuals:                       37\n",
      "Model Family:                Binomial   Df Model:                            4\n",
      "Link Function:                  Logit   Scale:                          1.0000\n",
      "Method:                          IRLS   Log-Likelihood:                    nan\n",
      "Date:                Sat, 06 May 2023   Deviance:                       2062.6\n",
      "Time:                        13:58:10   Pearson chi2:                 1.85e+17\n",
      "No. Iterations:                    20   Pseudo R-squ. (CS):                nan\n",
      "Covariance Type:            nonrobust                                         \n",
      "=====================================================================================\n",
      "                        coef    std err          z      P>|z|      [0.025      0.975]\n",
      "-------------------------------------------------------------------------------------\n",
      "Intercept         -8.338e+15   1.05e+07  -7.96e+08      0.000   -8.34e+15   -8.34e+15\n",
      "Gender             7.728e+15   1.07e+07   7.19e+08      0.000    7.73e+15    7.73e+15\n",
      "Age                3.316e+14   1.06e+07   3.14e+07      0.000    3.32e+14    3.32e+14\n",
      "Trait_Anxiety     -2.253e+13    1.1e+07  -2.04e+06      0.000   -2.25e+13   -2.25e+13\n",
      "Age:Trait_Anxiety -2.569e+14   1.72e+07  -1.49e+07      0.000   -2.57e+14   -2.57e+14\n",
      "=====================================================================================\n"
     ]
    },
    {
     "name": "stderr",
     "output_type": "stream",
     "text": [
      "/home/debashish/anaconda3/lib/python3.9/site-packages/statsmodels/genmod/families/links.py:187: RuntimeWarning: overflow encountered in exp\n",
      "  t = np.exp(-z)\n",
      "/home/debashish/anaconda3/lib/python3.9/site-packages/statsmodels/genmod/families/family.py:1014: RuntimeWarning: invalid value encountered in log\n",
      "  special.gammaln(n - y + 1) + y * np.log(mu / (1 - mu + 1e-20)) +\n",
      "/home/debashish/anaconda3/lib/python3.9/site-packages/statsmodels/genmod/families/family.py:1014: RuntimeWarning: divide by zero encountered in log\n",
      "  special.gammaln(n - y + 1) + y * np.log(mu / (1 - mu + 1e-20)) +\n",
      "/home/debashish/anaconda3/lib/python3.9/site-packages/numpy/core/fromnumeric.py:86: RuntimeWarning: invalid value encountered in reduce\n",
      "  return ufunc.reduce(obj, axis, dtype, out, **passkwargs)\n"
     ]
    }
   ],
   "source": [
    "formula = 'vWTP ~ Gender + Age + Trait_Anxiety + Age * Trait_Anxiety'\n",
    "model = smf.glm(formula = formula, data=data, family=sm.families.Binomial())\n",
    "result = model.fit()\n",
    "print(result.summary())"
   ]
  }
 ],
 "metadata": {
  "kernelspec": {
   "display_name": "base",
   "language": "python",
   "name": "python3"
  },
  "language_info": {
   "codemirror_mode": {
    "name": "ipython",
    "version": 3
   },
   "file_extension": ".py",
   "mimetype": "text/x-python",
   "name": "python",
   "nbconvert_exporter": "python",
   "pygments_lexer": "ipython3",
   "version": "3.9.16"
  },
  "orig_nbformat": 4
 },
 "nbformat": 4,
 "nbformat_minor": 2
}
